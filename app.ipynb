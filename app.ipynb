{
 "cells": [
  {
   "cell_type": "code",
   "execution_count": null,
   "metadata": {},
   "outputs": [],
   "source": [
    "import pandas as pd\n",
    "from selenium import webdriver\n",
    "from selenium.webdriver.common.keys import Keys\n",
    "import time\n",
    "import urllib"
   ]
  },
  {
   "cell_type": "code",
   "execution_count": null,
   "metadata": {},
   "outputs": [],
   "source": [
    "navegador = webdriver.Chrome()\n",
    "navegador.get('https://web.whatsapp.com/')\n",
    "while len(navegador.find_elements_by_id('side')) < 1:\n",
    "    time.sleep(1)"
   ]
  },
  {
   "cell_type": "code",
   "execution_count": null,
   "metadata": {},
   "outputs": [],
   "source": [
    "contatos = pd.read_excel('contatos.xlsx', sheet_name='Contatos')\n",
    "\n",
    "for i, mensagem in enumerate(contatos['MENSAGEM']):\n",
    "    pessoa = contatos.loc[i, 'NOME']\n",
    "    numero = contatos.loc[i, 'TELEFONE']\n",
    "    texto = urllib.parse.quote(mensagem)\n",
    "    link = f'https://web.whatsapp.com/send?phone={numero}&text={texto}'\n",
    "    navegador.get(link)\n",
    "    while len(navegador.find_elements_by_id('side')) < 1:\n",
    "        time.sleep(1)\n",
    "    navegador.find_element_by_xpath('//*[@id=\"main\"]/footer/div[1]/div[2]/div/div[2]').send_keys(Keys.ENTER)\n",
    "    time.sleep(20)"
   ]
  }
 ],
 "metadata": {
  "kernelspec": {
   "name": "pythonjvsc74a57bd0530bdcf6842c0ed5994fa2fbf1232dbc415f6e9350c3413b7705422433d1253f",
   "display_name": "Python 3.9.5 64-bit ('.venv': venv)"
  },
  "language_info": {
   "codemirror_mode": {
    "name": "ipython",
    "version": 3
   },
   "file_extension": ".py",
   "mimetype": "text/x-python",
   "name": "python",
   "nbconvert_exporter": "python",
   "pygments_lexer": "ipython3",
   "version": "3.9.5"
  },
  "metadata": {
   "interpreter": {
    "hash": "530bdcf6842c0ed5994fa2fbf1232dbc415f6e9350c3413b7705422433d1253f"
   }
  }
 },
 "nbformat": 4,
 "nbformat_minor": 2
}